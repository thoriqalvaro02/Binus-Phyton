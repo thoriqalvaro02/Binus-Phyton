{
  "nbformat": 4,
  "nbformat_minor": 0,
  "metadata": {
    "colab": {
      "provenance": []
    },
    "kernelspec": {
      "name": "python3",
      "display_name": "Python 3"
    },
    "language_info": {
      "name": "python"
    }
  },
  "cells": [
    {
      "cell_type": "code",
      "execution_count": 1,
      "metadata": {
        "colab": {
          "base_uri": "https://localhost:8080/"
        },
        "id": "BKS6k_ILBzJe",
        "outputId": "e8e968c1-644e-4c3e-8f8c-433f5f6f6d16"
      },
      "outputs": [
        {
          "output_type": "stream",
          "name": "stdout",
          "text": [
            "File 'Negara.csv' berhasil dibuat!\n",
            "            Negara  Populasi (juta)  PDB (triliun USD)            Benua\n",
            "0        Indonesia              273               1.19             Asia\n",
            "1           Jepang              126               5.06             Asia\n",
            "2  Amerika Serikat              331              25.35    Amerika Utara\n",
            "3           Jerman               83               4.22            Eropa\n",
            "4           Brasil              213               2.06  Amerika Selatan\n",
            "5            India             1393               3.39             Asia\n",
            "6           Kanada               38               2.14    Amerika Utara\n",
            "7          Prancis               67               3.05            Eropa\n",
            "8        Australia               26               1.55          Oseania\n",
            "9    Korea Selatan               52               1.81             Asia\n"
          ]
        }
      ],
      "source": [
        "import pandas as pd\n",
        "\n",
        "data = {\n",
        "    \"Negara\": [\"Indonesia\", \"Jepang\", \"Amerika Serikat\", \"Jerman\", \"Brasil\",\n",
        "               \"India\", \"Kanada\", \"Prancis\", \"Australia\", \"Korea Selatan\"],\n",
        "    \"Populasi (juta)\": [273, 126, 331, 83, 213, 1393, 38, 67, 26, 52],\n",
        "    \"PDB (triliun USD)\": [1.19, 5.06, 25.35, 4.22, 2.06, 3.39, 2.14, 3.05, 1.55, 1.81],\n",
        "    \"Benua\": [\"Asia\", \"Asia\", \"Amerika Utara\", \"Eropa\", \"Amerika Selatan\",\n",
        "              \"Asia\", \"Amerika Utara\", \"Eropa\", \"Oseania\", \"Asia\"]\n",
        "}\n",
        "\n",
        "df = pd.DataFrame(data)\n",
        "\n",
        "df.to_csv(\"Negara.csv\", index=False)\n",
        "\n",
        "print(\"File 'Negara.csv' berhasil dibuat!\")\n",
        "print(df)\n"
      ]
    }
  ]
}